{
 "cells": [
  {
   "cell_type": "markdown",
   "metadata": {},
   "source": [
    "# Email Wizard Assistant: Model Implementation\n",
    "\n",
    "This notebook demonstrates the implementation of the RAG model for the Email Wizard Assistant. We'll embed the preprocessed emails, set up the retrieval system, and implement the response generation."
   ]
  },
  {
   "cell_type": "code",
   "execution_count": 6,
   "metadata": {},
   "outputs": [
    {
     "name": "stdout",
     "output_type": "stream",
     "text": [
      "Note: you may need to restart the kernel to use updated packages.\n"
     ]
    },
    {
     "name": "stderr",
     "output_type": "stream",
     "text": [
      "\n",
      "[notice] A new release of pip is available: 25.0.1 -> 25.1.1\n",
      "[notice] To update, run: python.exe -m pip install --upgrade pip\n"
     ]
    }
   ],
   "source": [
    "# Install missing libraries\n",
    "%pip install -q chromadb faiss-cpu sentence-transformers onnxruntime\n"
   ]
  },
  {
   "cell_type": "code",
   "execution_count": 10,
   "metadata": {},
   "outputs": [
    {
     "name": "stdout",
     "output_type": "stream",
     "text": [
      "Collecting onnxruntime-directml\n",
      "  Downloading onnxruntime_directml-1.21.1-cp312-cp312-win_amd64.whl.metadata (4.9 kB)\n",
      "Requirement already satisfied: coloredlogs in c:\\users\\dell\\appdata\\local\\programs\\python\\python312\\lib\\site-packages (from onnxruntime-directml) (15.0.1)\n",
      "Requirement already satisfied: flatbuffers in c:\\users\\dell\\appdata\\local\\programs\\python\\python312\\lib\\site-packages (from onnxruntime-directml) (24.3.25)\n",
      "Requirement already satisfied: numpy>=1.21.6 in c:\\users\\dell\\appdata\\local\\programs\\python\\python312\\lib\\site-packages (from onnxruntime-directml) (1.26.3)\n",
      "Requirement already satisfied: packaging in c:\\users\\dell\\appdata\\local\\programs\\python\\python312\\lib\\site-packages (from onnxruntime-directml) (24.1)\n",
      "Requirement already satisfied: protobuf in c:\\users\\dell\\appdata\\local\\programs\\python\\python312\\lib\\site-packages (from onnxruntime-directml) (5.29.4)\n",
      "Requirement already satisfied: sympy in c:\\users\\dell\\appdata\\local\\programs\\python\\python312\\lib\\site-packages (from onnxruntime-directml) (1.13.1)\n",
      "Requirement already satisfied: humanfriendly>=9.1 in c:\\users\\dell\\appdata\\local\\programs\\python\\python312\\lib\\site-packages (from coloredlogs->onnxruntime-directml) (10.0)\n",
      "Requirement already satisfied: mpmath<1.4,>=1.1.0 in c:\\users\\dell\\appdata\\local\\programs\\python\\python312\\lib\\site-packages (from sympy->onnxruntime-directml) (1.3.0)\n",
      "Requirement already satisfied: pyreadline3 in c:\\users\\dell\\appdata\\local\\programs\\python\\python312\\lib\\site-packages (from humanfriendly>=9.1->coloredlogs->onnxruntime-directml) (3.5.4)\n",
      "Downloading onnxruntime_directml-1.21.1-cp312-cp312-win_amd64.whl (24.0 MB)\n",
      "   ---------------------------------------- 0.0/24.0 MB ? eta -:--:--\n",
      "   ---------------------------------------- 0.0/24.0 MB ? eta -:--:--\n",
      "   ---------------------------------------- 0.3/24.0 MB ? eta -:--:--\n",
      "    --------------------------------------- 0.5/24.0 MB 989.2 kB/s eta 0:00:24\n",
      "   - -------------------------------------- 0.8/24.0 MB 1.0 MB/s eta 0:00:23\n",
      "   - -------------------------------------- 1.0/24.0 MB 1.1 MB/s eta 0:00:21\n",
      "   -- ------------------------------------- 1.3/24.0 MB 1.2 MB/s eta 0:00:20\n",
      "   -- ------------------------------------- 1.6/24.0 MB 1.2 MB/s eta 0:00:19\n",
      "   --- ------------------------------------ 1.8/24.0 MB 1.2 MB/s eta 0:00:19\n",
      "   --- ------------------------------------ 2.1/24.0 MB 1.3 MB/s eta 0:00:18\n",
      "   --- ------------------------------------ 2.4/24.0 MB 1.3 MB/s eta 0:00:18\n",
      "   --- ------------------------------------ 2.4/24.0 MB 1.3 MB/s eta 0:00:18\n",
      "   ---- ----------------------------------- 2.6/24.0 MB 1.2 MB/s eta 0:00:19\n",
      "   ---- ----------------------------------- 2.9/24.0 MB 1.2 MB/s eta 0:00:19\n",
      "   ----- ---------------------------------- 3.1/24.0 MB 1.2 MB/s eta 0:00:18\n",
      "   ----- ---------------------------------- 3.1/24.0 MB 1.2 MB/s eta 0:00:18\n",
      "   ----- ---------------------------------- 3.1/24.0 MB 1.2 MB/s eta 0:00:18\n",
      "   ----- ---------------------------------- 3.1/24.0 MB 1.2 MB/s eta 0:00:18\n",
      "   ----- ---------------------------------- 3.1/24.0 MB 1.2 MB/s eta 0:00:18\n",
      "   ----- ---------------------------------- 3.4/24.0 MB 879.2 kB/s eta 0:00:24\n",
      "   ----- ---------------------------------- 3.4/24.0 MB 879.2 kB/s eta 0:00:24\n",
      "   ------ --------------------------------- 3.7/24.0 MB 839.0 kB/s eta 0:00:25\n",
      "   ------ --------------------------------- 3.7/24.0 MB 839.0 kB/s eta 0:00:25\n",
      "   ------ --------------------------------- 3.9/24.0 MB 810.0 kB/s eta 0:00:25\n",
      "   ------ --------------------------------- 3.9/24.0 MB 810.0 kB/s eta 0:00:25\n",
      "   ------ --------------------------------- 4.2/24.0 MB 801.5 kB/s eta 0:00:25\n",
      "   ------ --------------------------------- 4.2/24.0 MB 801.5 kB/s eta 0:00:25\n",
      "   ------- -------------------------------- 4.5/24.0 MB 794.2 kB/s eta 0:00:25\n",
      "   ------- -------------------------------- 4.5/24.0 MB 794.2 kB/s eta 0:00:25\n",
      "   ------- -------------------------------- 4.7/24.0 MB 794.5 kB/s eta 0:00:25\n",
      "   -------- ------------------------------- 5.0/24.0 MB 796.9 kB/s eta 0:00:24\n",
      "   -------- ------------------------------- 5.2/24.0 MB 807.1 kB/s eta 0:00:24\n",
      "   -------- ------------------------------- 5.2/24.0 MB 807.1 kB/s eta 0:00:24\n",
      "   --------- ------------------------------ 5.5/24.0 MB 814.5 kB/s eta 0:00:23\n",
      "   --------- ------------------------------ 5.8/24.0 MB 825.2 kB/s eta 0:00:23\n",
      "   ---------- ----------------------------- 6.0/24.0 MB 835.1 kB/s eta 0:00:22\n",
      "   ---------- ----------------------------- 6.3/24.0 MB 850.0 kB/s eta 0:00:21\n",
      "   ---------- ----------------------------- 6.6/24.0 MB 860.4 kB/s eta 0:00:21\n",
      "   ----------- ---------------------------- 6.8/24.0 MB 863.1 kB/s eta 0:00:20\n",
      "   ----------- ---------------------------- 7.1/24.0 MB 872.5 kB/s eta 0:00:20\n",
      "   ------------ --------------------------- 7.3/24.0 MB 883.1 kB/s eta 0:00:19\n",
      "   ------------ --------------------------- 7.6/24.0 MB 889.7 kB/s eta 0:00:19\n",
      "   ------------- -------------------------- 7.9/24.0 MB 896.1 kB/s eta 0:00:19\n",
      "   ------------- -------------------------- 7.9/24.0 MB 896.1 kB/s eta 0:00:19\n",
      "   ------------- -------------------------- 7.9/24.0 MB 896.1 kB/s eta 0:00:19\n",
      "   ------------- -------------------------- 8.1/24.0 MB 875.4 kB/s eta 0:00:19\n",
      "   ------------- -------------------------- 8.1/24.0 MB 875.4 kB/s eta 0:00:19\n",
      "   ------------- -------------------------- 8.4/24.0 MB 854.1 kB/s eta 0:00:19\n",
      "   ------------- -------------------------- 8.4/24.0 MB 854.1 kB/s eta 0:00:19\n",
      "   -------------- ------------------------- 8.7/24.0 MB 845.5 kB/s eta 0:00:19\n",
      "   -------------- ------------------------- 8.7/24.0 MB 845.5 kB/s eta 0:00:19\n",
      "   -------------- ------------------------- 8.9/24.0 MB 840.2 kB/s eta 0:00:18\n",
      "   --------------- ------------------------ 9.2/24.0 MB 842.6 kB/s eta 0:00:18\n",
      "   --------------- ------------------------ 9.4/24.0 MB 846.2 kB/s eta 0:00:18\n",
      "   --------------- ------------------------ 9.4/24.0 MB 846.2 kB/s eta 0:00:18\n",
      "   ---------------- ----------------------- 9.7/24.0 MB 848.3 kB/s eta 0:00:17\n",
      "   ---------------- ----------------------- 10.0/24.0 MB 855.1 kB/s eta 0:00:17\n",
      "   ----------------- ---------------------- 10.2/24.0 MB 861.6 kB/s eta 0:00:17\n",
      "   ----------------- ---------------------- 10.5/24.0 MB 869.0 kB/s eta 0:00:16\n",
      "   ----------------- ---------------------- 10.7/24.0 MB 877.2 kB/s eta 0:00:16\n",
      "   ------------------ --------------------- 11.3/24.0 MB 893.1 kB/s eta 0:00:15\n",
      "   ------------------ --------------------- 11.3/24.0 MB 893.1 kB/s eta 0:00:15\n",
      "   ------------------- -------------------- 11.8/24.0 MB 905.8 kB/s eta 0:00:14\n",
      "   -------------------- ------------------- 12.1/24.0 MB 914.0 kB/s eta 0:00:14\n",
      "   -------------------- ------------------- 12.3/24.0 MB 923.2 kB/s eta 0:00:13\n",
      "   -------------------- ------------------- 12.6/24.0 MB 931.0 kB/s eta 0:00:13\n",
      "   -------------------- ------------------- 12.6/24.0 MB 931.0 kB/s eta 0:00:13\n",
      "   -------------------- ------------------- 12.6/24.0 MB 931.0 kB/s eta 0:00:13\n",
      "   --------------------- ------------------ 12.8/24.0 MB 901.8 kB/s eta 0:00:13\n",
      "   --------------------- ------------------ 12.8/24.0 MB 901.8 kB/s eta 0:00:13\n",
      "   --------------------- ------------------ 13.1/24.0 MB 894.6 kB/s eta 0:00:13\n",
      "   --------------------- ------------------ 13.1/24.0 MB 894.6 kB/s eta 0:00:13\n",
      "   ---------------------- ----------------- 13.4/24.0 MB 891.5 kB/s eta 0:00:12\n",
      "   ---------------------- ----------------- 13.6/24.0 MB 890.4 kB/s eta 0:00:12\n",
      "   ---------------------- ----------------- 13.6/24.0 MB 890.4 kB/s eta 0:00:12\n",
      "   ----------------------- ---------------- 13.9/24.0 MB 889.3 kB/s eta 0:00:12\n",
      "   ----------------------- ---------------- 14.2/24.0 MB 886.6 kB/s eta 0:00:12\n",
      "   ----------------------- ---------------- 14.2/24.0 MB 886.6 kB/s eta 0:00:12\n",
      "   ----------------------- ---------------- 14.4/24.0 MB 885.6 kB/s eta 0:00:11\n",
      "   ------------------------ --------------- 14.7/24.0 MB 889.0 kB/s eta 0:00:11\n",
      "   ------------------------ --------------- 14.9/24.0 MB 892.2 kB/s eta 0:00:11\n",
      "   ------------------------- -------------- 15.2/24.0 MB 897.1 kB/s eta 0:00:10\n",
      "   ------------------------- -------------- 15.5/24.0 MB 901.0 kB/s eta 0:00:10\n",
      "   -------------------------- ------------- 15.7/24.0 MB 906.5 kB/s eta 0:00:10\n",
      "   -------------------------- ------------- 16.0/24.0 MB 911.0 kB/s eta 0:00:09\n",
      "   --------------------------- ------------ 16.5/24.0 MB 922.2 kB/s eta 0:00:09\n",
      "   --------------------------- ------------ 16.8/24.0 MB 928.8 kB/s eta 0:00:08\n",
      "   ---------------------------- ----------- 17.0/24.0 MB 934.5 kB/s eta 0:00:08\n",
      "   ---------------------------- ----------- 17.3/24.0 MB 936.9 kB/s eta 0:00:08\n",
      "   ----------------------------- ---------- 17.6/24.0 MB 942.4 kB/s eta 0:00:07\n",
      "   ----------------------------- ---------- 17.8/24.0 MB 947.8 kB/s eta 0:00:07\n",
      "   ------------------------------ --------- 18.1/24.0 MB 949.1 kB/s eta 0:00:07\n",
      "   ------------------------------ --------- 18.1/24.0 MB 949.1 kB/s eta 0:00:07\n",
      "   ------------------------------ --------- 18.4/24.0 MB 940.4 kB/s eta 0:00:07\n",
      "   ------------------------------ --------- 18.4/24.0 MB 940.4 kB/s eta 0:00:07\n",
      "   ------------------------------ --------- 18.6/24.0 MB 933.6 kB/s eta 0:00:06\n",
      "   ------------------------------ --------- 18.6/24.0 MB 933.6 kB/s eta 0:00:06\n",
      "   ------------------------------- -------- 18.9/24.0 MB 929.9 kB/s eta 0:00:06\n",
      "   ------------------------------- -------- 18.9/24.0 MB 929.9 kB/s eta 0:00:06\n",
      "   ------------------------------- -------- 19.1/24.0 MB 927.1 kB/s eta 0:00:06\n",
      "   -------------------------------- ------- 19.4/24.0 MB 926.4 kB/s eta 0:00:06\n",
      "   -------------------------------- ------- 19.4/24.0 MB 926.4 kB/s eta 0:00:06\n",
      "   -------------------------------- ------- 19.7/24.0 MB 925.2 kB/s eta 0:00:05\n",
      "   --------------------------------- ------ 19.9/24.0 MB 925.2 kB/s eta 0:00:05\n",
      "   --------------------------------- ------ 20.2/24.0 MB 924.7 kB/s eta 0:00:05\n",
      "   ---------------------------------- ----- 20.4/24.0 MB 926.7 kB/s eta 0:00:04\n",
      "   ---------------------------------- ----- 20.7/24.0 MB 930.1 kB/s eta 0:00:04\n",
      "   ---------------------------------- ----- 21.0/24.0 MB 932.7 kB/s eta 0:00:04\n",
      "   ----------------------------------- ---- 21.2/24.0 MB 936.0 kB/s eta 0:00:03\n",
      "   ----------------------------------- ---- 21.5/24.0 MB 940.5 kB/s eta 0:00:03\n",
      "   ------------------------------------ --- 21.8/24.0 MB 944.9 kB/s eta 0:00:03\n",
      "   ------------------------------------ --- 22.0/24.0 MB 948.6 kB/s eta 0:00:03\n",
      "   ------------------------------------- -- 22.3/24.0 MB 952.2 kB/s eta 0:00:02\n",
      "   ------------------------------------- -- 22.8/24.0 MB 960.0 kB/s eta 0:00:02\n",
      "   ------------------------------------- -- 22.8/24.0 MB 960.0 kB/s eta 0:00:02\n",
      "   -------------------------------------- - 23.1/24.0 MB 956.5 kB/s eta 0:00:02\n",
      "   -------------------------------------- - 23.1/24.0 MB 956.5 kB/s eta 0:00:02\n",
      "   -------------------------------------- - 23.1/24.0 MB 956.5 kB/s eta 0:00:02\n",
      "   -------------------------------------- - 23.3/24.0 MB 945.8 kB/s eta 0:00:01\n",
      "   ---------------------------------------  23.6/24.0 MB 942.7 kB/s eta 0:00:01\n",
      "   ---------------------------------------  23.6/24.0 MB 942.7 kB/s eta 0:00:01\n",
      "   ---------------------------------------  23.9/24.0 MB 940.8 kB/s eta 0:00:01\n",
      "   ---------------------------------------- 24.0/24.0 MB 936.2 kB/s eta 0:00:00\n",
      "Installing collected packages: onnxruntime-directml\n",
      "Successfully installed onnxruntime-directml-1.21.1\n",
      "Note: you may need to restart the kernel to use updated packages.\n"
     ]
    },
    {
     "name": "stderr",
     "output_type": "stream",
     "text": [
      "\n",
      "[notice] A new release of pip is available: 25.0.1 -> 25.1.1\n",
      "[notice] To update, run: python.exe -m pip install --upgrade pip\n"
     ]
    }
   ],
   "source": [
    "pip install onnxruntime-directml\n"
   ]
  },
  {
   "cell_type": "markdown",
   "metadata": {},
   "source": []
  },
  {
   "cell_type": "markdown",
   "metadata": {},
   "source": []
  },
  {
   "cell_type": "code",
   "execution_count": 1,
   "metadata": {},
   "outputs": [],
   "source": [
    "# Install required packages if not installed\n",
    "try:\n",
    "    import chromadb\n",
    "    import faiss\n",
    "    import sentence_transformers\n",
    "except ImportError:\n",
    "    !pip install chromadb faiss-cpu sentence-transformers\n",
    "\n",
    "# Standard imports\n",
    "import os\n",
    "import sys\n",
    "import json\n",
    "import numpy as np\n",
    "import pandas as pd\n",
    "import matplotlib.pyplot as plt\n",
    "from pathlib import Path\n",
    "import time\n",
    "\n",
    "# Add project root to path to access local modules\n",
    "project_root = Path().resolve().parent\n",
    "sys.path.insert(0, str(project_root))\n",
    "\n",
    "# Local project imports\n",
    "try:\n",
    "    from src.data.dataset import load_dataset\n",
    "    from src.model.embeddings import EmailEmbedder, ChromaDBStore\n",
    "    from src.model.retriever import EmailRetriever, ChromaDBRetriever\n",
    "    from src.model.generator import ResponseGenerator, RAGPipeline\n",
    "    from src.utils.helpers import time_function, save_json, load_json\n",
    "except ModuleNotFoundError as e:\n",
    "    raise ModuleNotFoundError(\n",
    "        f\"Could not import project modules. Make sure you are running this notebook from within the project structure. Error: {e}\"\n",
    "    )\n"
   ]
  },
  {
   "cell_type": "markdown",
   "metadata": {},
   "source": [
    "## 1. Load Preprocessed Emails\n",
    "\n",
    "First, let's load the preprocessed emails from the previous notebook."
   ]
  },
  {
   "cell_type": "code",
   "execution_count": 3,
   "metadata": {},
   "outputs": [
    {
     "name": "stdout",
     "output_type": "stream",
     "text": [
      "Loaded 59 preprocessed emails\n"
     ]
    }
   ],
   "source": [
    "# Load preprocessed emails\n",
    "processed_emails = load_dataset(\n",
    "    \"../data/processed/processed_emails.json\",\n",
    "    is_processed=True\n",
    ")\n",
    "\n",
    "print(f\"Loaded {len(processed_emails)} preprocessed emails\")"
   ]
  },
  {
   "cell_type": "markdown",
   "metadata": {},
   "source": [
    "## 2. Embed Emails\n",
    "\n",
    "Now, let's embed the preprocessed emails using a pre-trained Sentence Transformer model."
   ]
  },
  {
   "cell_type": "code",
   "execution_count": 4,
   "metadata": {},
   "outputs": [
    {
     "name": "stderr",
     "output_type": "stream",
     "text": [
      "c:\\Users\\dell\\AppData\\Local\\Programs\\Python\\Python312\\Lib\\site-packages\\huggingface_hub\\file_download.py:1150: FutureWarning: `resume_download` is deprecated and will be removed in version 1.0.0. Downloads always resume when possible. If you want to force a new download, use `force_download=True`.\n",
      "  warnings.warn(\n"
     ]
    },
    {
     "name": "stdout",
     "output_type": "stream",
     "text": [
      "Function embed_emails took 9.9967 seconds to execute\n",
      "Saved embeddings for 59 emails to ../data/embeddings/email_embeddings.json\n",
      "Embedded and saved 59 emails\n"
     ]
    }
   ],
   "source": [
    "# Initialize the embedder\n",
    "embedder = EmailEmbedder(model_name=\"all-MiniLM-L6-v2\")\n",
    "\n",
    "# Embed the emails\n",
    "@time_function\n",
    "def embed_emails(emails):\n",
    "    return embedder.embed_emails(emails)\n",
    "\n",
    "emails_with_embeddings = embed_emails(processed_emails)\n",
    "\n",
    "# Save the embeddings\n",
    "os.makedirs(\"../data/embeddings\", exist_ok=True)\n",
    "embedder.save_embeddings(\n",
    "    emails_with_embeddings,\n",
    "    \"../data/embeddings/email_embeddings.json\"\n",
    ")\n",
    "\n",
    "print(f\"Embedded and saved {len(emails_with_embeddings)} emails\")"
   ]
  },
  {
   "cell_type": "markdown",
   "metadata": {},
   "source": [
    "Let's examine the embeddings to understand their structure:"
   ]
  },
  {
   "cell_type": "code",
   "execution_count": 5,
   "metadata": {},
   "outputs": [
    {
     "name": "stdout",
     "output_type": "stream",
     "text": [
      "Email ID: email_2\n",
      "Embedding shape: (384,)\n",
      "Number of chunks: 1\n",
      "Chunk embeddings shape: (1, 384)\n"
     ]
    }
   ],
   "source": [
    "# Examine the embeddings\n",
    "sample_email = emails_with_embeddings[0]\n",
    "\n",
    "print(f\"Email ID: {sample_email['id']}\")\n",
    "print(f\"Embedding shape: {np.array(sample_email['embedding']).shape}\")\n",
    "\n",
    "if 'chunk_embeddings' in sample_email:\n",
    "    print(f\"Number of chunks: {len(sample_email['chunks'])}\")\n",
    "    print(f\"Chunk embeddings shape: {np.array(sample_email['chunk_embeddings']).shape}\")"
   ]
  },
  {
   "cell_type": "markdown",
   "metadata": {},
   "source": [
    "## 3. Set Up ChromaDB for Vector Storage\n",
    "\n",
    "Now, let's set up ChromaDB for efficient vector storage and retrieval."
   ]
  },
  {
   "cell_type": "code",
   "execution_count": 7,
   "metadata": {},
   "outputs": [
    {
     "name": "stdout",
     "output_type": "stream",
     "text": [
      "Using existing collection: email_embeddings\n",
      "Collection stats: {'collection_name': 'email_embeddings', 'count': 10}\n",
      "ChromaDB already contains 10 emails\n"
     ]
    }
   ],
   "source": [
    "# Initialize ChromaDB store\n",
    "chroma_store = ChromaDBStore(\n",
    "    collection_name=\"email_embeddings\",\n",
    "    persist_directory=\"../data/embeddings/chroma_db\",\n",
    "    embedding_function=embedder.embedding_function\n",
    ")\n",
    "\n",
    "# Add emails to ChromaDB\n",
    "@time_function\n",
    "def add_emails_to_chroma(emails):\n",
    "    chroma_store.add_emails(emails)\n",
    "\n",
    "# Check if collection is empty before adding\n",
    "collection_stats = chroma_store.get_collection_stats()\n",
    "print(f\"Collection stats: {collection_stats}\")\n",
    "\n",
    "if collection_stats[\"count\"] == 0:\n",
    "    add_emails_to_chroma(processed_emails)\n",
    "    print(f\"Added {len(processed_emails)} emails to ChromaDB\")\n",
    "else:\n",
    "    print(f\"ChromaDB already contains {collection_stats['count']} emails\")"
   ]
  },
  {
   "cell_type": "markdown",
   "metadata": {},
   "source": [
    "## 4. Implement Similarity Search\n",
    "\n",
    "Let's implement and test the similarity search functionality using both direct vector comparison and ChromaDB."
   ]
  },
  {
   "cell_type": "code",
   "execution_count": 8,
   "metadata": {},
   "outputs": [
    {
     "name": "stdout",
     "output_type": "stream",
     "text": [
      "Saved FAISS index to ../data/embeddings/faiss_index.bin\n",
      "Built search index with 59 emails\n",
      "Function build_index took 0.0112 seconds to execute\n"
     ]
    }
   ],
   "source": [
    "# Initialize retrievers\n",
    "vector_retriever = EmailRetriever(\n",
    "    embedder=embedder,\n",
    "    use_faiss=True,\n",
    "    index_path=\"../data/embeddings/faiss_index.bin\"\n",
    ")\n",
    "\n",
    "# Build the index\n",
    "@time_function\n",
    "def build_index(emails):\n",
    "    vector_retriever.build_index(emails)\n",
    "\n",
    "build_index(emails_with_embeddings)\n",
    "\n",
    "# Initialize ChromaDB retriever\n",
    "chroma_retriever = ChromaDBRetriever(chroma_store=chroma_store)"
   ]
  },
  {
   "cell_type": "markdown",
   "metadata": {},
   "source": [
    "Now, let's test the retrieval with some sample queries:"
   ]
  },
  {
   "cell_type": "code",
   "execution_count": 9,
   "metadata": {},
   "outputs": [
    {
     "name": "stdout",
     "output_type": "stream",
     "text": [
      "Vector Retrieval Results:\n",
      "\n",
      "Query: What's the status of the project?\n",
      "Retrieved 3 emails in 0.1001 seconds\n",
      "Result 1: Project Status Update (Similarity: 0.9916)\n",
      "Result 2: Budget Approval Request (Similarity: 0.9896)\n",
      "Result 3: Budget Approval Request (Similarity: 0.9895)\n",
      "\n",
      "Query: When is the next team meeting?\n",
      "Retrieved 3 emails in 0.0236 seconds\n",
      "Result 1: Meeting Minutes: Strategic Planning (Similarity: 0.9899)\n",
      "Result 2: Meeting Minutes: Strategic Planning (Similarity: 0.9897)\n",
      "Result 3: Meeting Minutes: Strategic Planning (Similarity: 0.9882)\n",
      "\n",
      "Query: Can you provide an update on the budget?\n",
      "Retrieved 3 emails in 0.0308 seconds\n",
      "Result 1: Budget Approval Request (Similarity: 0.9928)\n",
      "Result 2: Budget Approval Request (Similarity: 0.9926)\n",
      "Result 3: Budget Approval Request (Similarity: 0.9925)\n",
      "\n",
      "Query: Is there any issue with the system?\n",
      "Retrieved 3 emails in 0.0243 seconds\n",
      "Result 1: System Outage Notification (Similarity: 0.9862)\n",
      "Result 2: System Outage Notification (Similarity: 0.9862)\n",
      "Result 3: System Outage Notification (Similarity: 0.9861)\n",
      "\n",
      "Query: What are the plans for the weekend?\n",
      "Retrieved 3 emails in 0.0221 seconds\n",
      "Result 1: Vacation Plans (Similarity: 0.9877)\n",
      "Result 2: Vacation Plans (Similarity: 0.9871)\n",
      "Result 3: Family Reunion Planning (Similarity: 0.9860)\n"
     ]
    }
   ],
   "source": [
    "# Test queries\n",
    "test_queries = [\n",
    "    \"What's the status of the project?\",\n",
    "    \"When is the next team meeting?\",\n",
    "    \"Can you provide an update on the budget?\",\n",
    "    \"Is there any issue with the system?\",\n",
    "    \"What are the plans for the weekend?\"\n",
    "]\n",
    "\n",
    "# Test vector retrieval\n",
    "print(\"Vector Retrieval Results:\")\n",
    "for query in test_queries:\n",
    "    print(f\"\\nQuery: {query}\")\n",
    "    \n",
    "    # Retrieve similar emails\n",
    "    start_time = time.time()\n",
    "    results = vector_retriever.retrieve(query, top_k=3)\n",
    "    end_time = time.time()\n",
    "    \n",
    "    print(f\"Retrieved {len(results)} emails in {end_time - start_time:.4f} seconds\")\n",
    "    \n",
    "    # Display results\n",
    "    for i, result in enumerate(results):\n",
    "        metadata = result.get('metadata', {})\n",
    "        similarity = result.get('similarity_score', 0.0)\n",
    "        print(f\"Result {i+1}: {metadata.get('subject', '')} (Similarity: {similarity:.4f})\")"
   ]
  },
  {
   "cell_type": "code",
   "execution_count": 10,
   "metadata": {},
   "outputs": [
    {
     "name": "stdout",
     "output_type": "stream",
     "text": [
      "ChromaDB Retrieval Results:\n",
      "\n",
      "Query: What's the status of the project?\n",
      "Retrieved 3 emails in 0.2077 seconds\n",
      "Result 1: Project Status Update (Similarity: 0.6035)\n",
      "Result 2: Re: Project Status Update (Similarity: 0.4714)\n",
      "Result 3: Deployment Schedule Update (Similarity: 0.3296)\n",
      "\n",
      "Query: When is the next team meeting?\n",
      "Retrieved 3 emails in 0.0415 seconds\n",
      "Result 1: Re: Project Status Update (Similarity: 0.5651)\n",
      "Result 2: Deployment Schedule Update (Similarity: 0.3919)\n",
      "Result 3: Project Status Update (Similarity: 0.3821)\n",
      "\n",
      "Query: Can you provide an update on the budget?\n",
      "Retrieved 3 emails in 0.0322 seconds\n",
      "Result 1: Budget Approval Request (Similarity: 0.5821)\n",
      "Result 2: Project Status Update (Similarity: 0.4161)\n",
      "Result 3: Re: Project Status Update (Similarity: 0.2969)\n",
      "\n",
      "Query: Is there any issue with the system?\n",
      "Retrieved 3 emails in 0.0366 seconds\n",
      "Result 1: System Outage Notification (Similarity: 0.2610)\n",
      "Result 2: Project Status Update (Similarity: 0.1489)\n",
      "Result 3: Code Review Feedback (Similarity: 0.1285)\n",
      "\n",
      "Query: What are the plans for the weekend?\n",
      "Retrieved 3 emails in 0.0234 seconds\n",
      "Result 1: Company Picnic - Save the Date (Similarity: 0.4042)\n",
      "Result 2: Re: Project Status Update (Similarity: 0.3904)\n",
      "Result 3: Deployment Schedule Update (Similarity: 0.3209)\n"
     ]
    }
   ],
   "source": [
    "# Test ChromaDB retrieval\n",
    "print(\"ChromaDB Retrieval Results:\")\n",
    "for query in test_queries:\n",
    "    print(f\"\\nQuery: {query}\")\n",
    "    \n",
    "    # Retrieve similar emails\n",
    "    start_time = time.time()\n",
    "    results = chroma_retriever.retrieve(query, top_k=3)\n",
    "    end_time = time.time()\n",
    "    \n",
    "    print(f\"Retrieved {len(results)} emails in {end_time - start_time:.4f} seconds\")\n",
    "    \n",
    "    # Display results\n",
    "    for i, result in enumerate(results):\n",
    "        metadata = result.get('metadata', {})\n",
    "        similarity = result.get('similarity_score', 0.0)\n",
    "        print(f\"Result {i+1}: {metadata.get('subject', '')} (Similarity: {similarity:.4f})\")"
   ]
  },
  {
   "cell_type": "markdown",
   "metadata": {},
   "source": [
    "## 5. Implement Response Generation\n",
    "\n",
    "Now, let's implement the response generation using a pre-trained language model."
   ]
  },
  {
   "cell_type": "code",
   "execution_count": 11,
   "metadata": {},
   "outputs": [
    {
     "name": "stderr",
     "output_type": "stream",
     "text": [
      "c:\\Users\\dell\\AppData\\Local\\Programs\\Python\\Python312\\Lib\\site-packages\\huggingface_hub\\file_download.py:1150: FutureWarning: `resume_download` is deprecated and will be removed in version 1.0.0. Downloads always resume when possible. If you want to force a new download, use `force_download=True`.\n",
      "  warnings.warn(\n"
     ]
    },
    {
     "name": "stdout",
     "output_type": "stream",
     "text": [
      "Loaded response generator model: google/flan-t5-base on cpu\n",
      "Response Generation:\n",
      "\n",
      "Query: What's the status of the project?\n"
     ]
    },
    {
     "name": "stderr",
     "output_type": "stream",
     "text": [
      "Token indices sequence length is longer than the specified maximum sequence length for this model (625 > 512). Running this sequence through the model will result in indexing errors\n"
     ]
    },
    {
     "name": "stdout",
     "output_type": "stream",
     "text": [
      "Generated response in 6.4100 seconds\n",
      "Response: Subject: Deployment Schedule Changes\n",
      "\n",
      "Query: When is the next team meeting?\n",
      "Generated response in 3.9468 seconds\n",
      "Response: Subject: Project Status Update\n"
     ]
    }
   ],
   "source": [
    "# Initialize the generator\n",
    "generator = ResponseGenerator(model_name=\"google/flan-t5-base\")\n",
    "\n",
    "# Test response generation\n",
    "print(\"Response Generation:\")\n",
    "for query in test_queries[:2]:  # Use only the first two queries to save time\n",
    "    print(f\"\\nQuery: {query}\")\n",
    "    \n",
    "    # Retrieve similar emails\n",
    "    retrieved_emails = chroma_retriever.retrieve(query, top_k=3)\n",
    "    \n",
    "    # Generate response\n",
    "    start_time = time.time()\n",
    "    response = generator.generate_response(query, retrieved_emails)\n",
    "    end_time = time.time()\n",
    "    \n",
    "    print(f\"Generated response in {end_time - start_time:.4f} seconds\")\n",
    "    print(f\"Response: {response}\")"
   ]
  },
  {
   "cell_type": "markdown",
   "metadata": {},
   "source": [
    "## 6. Implement End-to-End RAG Pipeline\n",
    "\n",
    "Finally, let's implement the end-to-end RAG pipeline that combines retrieval and generation."
   ]
  },
  {
   "cell_type": "code",
   "execution_count": 12,
   "metadata": {},
   "outputs": [
    {
     "name": "stdout",
     "output_type": "stream",
     "text": [
      "RAG Pipeline:\n",
      "\n",
      "Query: What's the status of the project?\n",
      "Processed query in 5.6071 seconds\n",
      "Response: Subject: Deployment Schedule Changes\n",
      "Retrieved 3 emails\n",
      "\n",
      "Query: When is the next team meeting?\n",
      "Processed query in 5.9591 seconds\n",
      "Response: Subject: Project Status Update\n",
      "Retrieved 3 emails\n",
      "\n",
      "Query: Can you provide an update on the budget?\n",
      "Processed query in 4.2549 seconds\n",
      "Response: Subject: Project Status Update\n",
      "Retrieved 3 emails\n",
      "\n",
      "Query: Is there any issue with the system?\n",
      "Processed query in 6.7683 seconds\n",
      "Response: Subject: Code Review for the New Authentication Module\n",
      "Retrieved 3 emails\n",
      "\n",
      "Query: What are the plans for the weekend?\n",
      "Processed query in 5.5597 seconds\n",
      "Response: Subject: Deployment Schedule\n",
      "Retrieved 3 emails\n"
     ]
    }
   ],
   "source": [
    "# Initialize the RAG pipeline\n",
    "rag_pipeline = RAGPipeline(\n",
    "    retriever=chroma_retriever,\n",
    "    generator=generator,\n",
    "    top_k=3\n",
    ")\n",
    "\n",
    "# Test the RAG pipeline\n",
    "print(\"RAG Pipeline:\")\n",
    "for query in test_queries:\n",
    "    print(f\"\\nQuery: {query}\")\n",
    "    \n",
    "    # Process the query\n",
    "    start_time = time.time()\n",
    "    result = rag_pipeline.process_query(query)\n",
    "    end_time = time.time()\n",
    "    \n",
    "    print(f\"Processed query in {end_time - start_time:.4f} seconds\")\n",
    "    print(f\"Response: {result['response']}\")\n",
    "    print(f\"Retrieved {len(result['retrieved_emails'])} emails\")"
   ]
  },
  {
   "cell_type": "markdown",
   "metadata": {},
   "source": [
    "## 7. Save the Models\n",
    "\n",
    "Let's save the models for later use in the API."
   ]
  },
  {
   "cell_type": "code",
   "execution_count": 13,
   "metadata": {},
   "outputs": [
    {
     "name": "stdout",
     "output_type": "stream",
     "text": [
      "ChromaDB is saved in: ../data/embeddings/chroma_db\n",
      "FAISS index is saved in: ../data/embeddings/faiss_index.bin\n",
      "Embedding model: all-MiniLM-L6-v2\n",
      "Generator model: google/flan-t5-base\n"
     ]
    }
   ],
   "source": [
    "# ChromaDB is already saved in the persist_directory\n",
    "print(f\"ChromaDB is saved in: {chroma_store.persist_directory}\")\n",
    "\n",
    "# FAISS index is already saved\n",
    "print(f\"FAISS index is saved in: {vector_retriever.index_path}\")\n",
    "\n",
    "# The transformer models are cached by the Hugging Face library\n",
    "print(f\"Embedding model: {embedder.model_name}\")\n",
    "print(f\"Generator model: {generator.model_name}\")"
   ]
  },
  {
   "cell_type": "markdown",
   "metadata": {},
   "source": [
    "## 8. Summary\n",
    "\n",
    "In this notebook, we've:\n",
    "\n",
    "1. Loaded the preprocessed emails from the previous notebook\n",
    "2. Embedded the emails using a pre-trained Sentence Transformer model\n",
    "3. Set up ChromaDB for efficient vector storage and retrieval\n",
    "4. Implemented similarity search using both direct vector comparison and ChromaDB\n",
    "5. Implemented response generation using a pre-trained language model\n",
    "6. Created an end-to-end RAG pipeline that combines retrieval and generation\n",
    "7. Saved the models for later use in the API\n",
    "\n",
    "The RAG pipeline is now ready to be integrated into the API in the next steps."
   ]
  }
 ],
 "metadata": {
  "kernelspec": {
   "display_name": "Python 3",
   "language": "python",
   "name": "python3"
  },
  "language_info": {
   "codemirror_mode": {
    "name": "ipython",
    "version": 3
   },
   "file_extension": ".py",
   "mimetype": "text/x-python",
   "name": "python",
   "nbconvert_exporter": "python",
   "pygments_lexer": "ipython3",
   "version": "3.12.4"
  }
 },
 "nbformat": 4,
 "nbformat_minor": 4
}
